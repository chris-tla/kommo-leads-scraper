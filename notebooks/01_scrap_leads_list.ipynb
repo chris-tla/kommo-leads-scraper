{
 "cells": [
  {
   "cell_type": "code",
   "execution_count": null,
   "id": "56c3614b",
   "metadata": {},
   "outputs": [],
   "source": [
    "from utils.driver import setup_driver\n",
    "from utils.extraction import extract_all_pages\n",
    "from utils.excel import clear_excel_sheet, write_to_excel\n",
    "from utils.settings import BASE_URL, EXCEL_FILE, MAX_PAGES"
   ]
  },
  {
   "cell_type": "code",
   "execution_count": null,
   "id": "30fff6cc",
   "metadata": {},
   "outputs": [],
   "source": [
    "logging.basicConfig(level=logging.INFO, format='%(asctime)s - %(levelname)s - %(message)s')"
   ]
  },
  {
   "cell_type": "code",
   "execution_count": null,
   "id": "66c3415a",
   "metadata": {},
   "outputs": [],
   "source": [
    "driver = setup_driver()\n",
    "driver.get(\"https://terandes1.kommo.com/\")\n",
    "\n",
    "print(\"🟢 Se ha abierto el navegador.\")\n",
    "print(\"🔐 Inicia sesión manualmente en Kommo y ve a la lista de leads.\")\n",
    "input(\"⏸️ Presiona ENTER aquí cuando estés listo para extraer los datos...\")"
   ]
  },
  {
   "cell_type": "code",
   "execution_count": null,
   "id": "3902bb9f",
   "metadata": {},
   "outputs": [],
   "source": [
    "data = extract_all_pages(driver, BASE_URL, MAX_PAGES)\n",
    "\n",
    "print(f\"✅ Se extrajeron {len(data)} leads.\")"
   ]
  },
  {
   "cell_type": "code",
   "execution_count": null,
   "id": "0a570771",
   "metadata": {},
   "outputs": [],
   "source": [
    "import pandas as pd\n",
    "\n",
    "# Convertir la lista de tuplas a DataFrame\n",
    "df = pd.DataFrame(data, columns=[\"ID\", \"URL\", \"Cliente\", \"Teléfono\"])\n",
    "\n",
    "# Mostrar los primeros resultados\n",
    "df.head()"
   ]
  },
  {
   "cell_type": "code",
   "execution_count": null,
   "id": "2a55cda5",
   "metadata": {},
   "outputs": [],
   "source": []
  }
 ],
 "metadata": {
  "kernelspec": {
   "display_name": "base",
   "language": "python",
   "name": "python3"
  },
  "language_info": {
   "name": "python",
   "version": "3.8.8"
  }
 },
 "nbformat": 4,
 "nbformat_minor": 5
}
