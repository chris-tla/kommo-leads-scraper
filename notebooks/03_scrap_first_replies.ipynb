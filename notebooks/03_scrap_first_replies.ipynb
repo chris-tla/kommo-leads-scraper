{
 "cells": [
  {
   "cell_type": "code",
   "execution_count": null,
   "id": "58eca44a",
   "metadata": {},
   "outputs": [],
   "source": [
    "from selenium import webdriver\n",
    "from utils.driver import setup_driver\n",
    "from utils.conversations import scrap_first_replies\n",
    "\n",
    "driver = setup_driver()\n",
    "input(\"Inicia sesión en Kommo y presiona ENTER para continuar...\")\n",
    "\n",
    "scrap_first_replies(driver)\n",
    "driver.quit()"
   ]
  }
 ],
 "metadata": {
  "language_info": {
   "name": "python"
  }
 },
 "nbformat": 4,
 "nbformat_minor": 5
}
